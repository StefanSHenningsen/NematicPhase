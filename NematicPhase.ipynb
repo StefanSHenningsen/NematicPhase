{
 "cells": [
  {
   "cell_type": "markdown",
   "metadata": {},
   "source": [
    "# Nematic Transition for Heisenberg Model"
   ]
  },
  {
   "cell_type": "markdown",
   "metadata": {},
   "source": [
    "We will determine the self-consistent bond equation $K_{\\mathbf{q}}^{\\mathrm{eff}}=K_{\\mathbf{q}}+\\int_{\\mathbf{p}}\\frac{T^2D_\\mathbf{p}}{K_{\\mathbf{p+q}}^{\\mathrm{eff}}}$ with $D_{\\mathbf{p}}=\\frac{2}{NT^2}\\left(\\int_{\\mathbf{k}}\\frac{1}{K_{\\mathbf{k}}^{\\mathrm{eff}}}\\frac{1}{K_{\\mathbf{k+p}}^{\\mathrm{eff}}}\\right)^{-1}$, and check for spontaneous symmetry breaking of $C_{4V}$."
   ]
  },
  {
   "cell_type": "code",
   "execution_count": 103,
   "metadata": {},
   "outputs": [],
   "source": [
    "import numpy as np\n",
    "import matplotlib.pyplot as plt\n",
    "import pandas as pd\n",
    "\n",
    "#Set values for size, spin and J.\n",
    "m = 10 #size of 2d-lattice (mxm)\n",
    "NS = 3.0 #number of spincomponents\n",
    "J1 = 1.0\n",
    "J2 = 0.0\n",
    "J3 = 0.0\n",
    "\n",
    "DeltaList = np.fromfunction(lambda qx,qy: 10**-9*(10**qy),(1,11))[0]#np.linspace(5*10**(-4),0.1*10**(0),100) #give list of Delta (changes temp.)\n",
    "\n",
    "maxNsteps = 10 #max itt. each step\n",
    "convCrit = 10**(-15) #decides when it has converged\n",
    "checkNSteps = 10 #check convergence every n-step\n",
    "\n",
    "da = 0.1 #adds symmetrybreaking term to K.\n",
    "dq = 2.0*np.pi/float(m) #constant for later\n",
    "nTemp = len(DeltaList) #number of temp.\n",
    "nStepsNow = 0\n",
    "stepsInN = 0"
   ]
  },
  {
   "cell_type": "markdown",
   "metadata": {},
   "source": [
    "Setting up functions and tables:"
   ]
  },
  {
   "cell_type": "code",
   "execution_count": 104,
   "metadata": {},
   "outputs": [],
   "source": [
    "#making JFTtab:\n",
    "def J (qx, qy):\n",
    "    return (-J1*(np.cos(qx) + np.cos(qy)) + 2*J2*np.cos(qx)\n",
    "            *np.cos(qy) + J3*(np.cos(2.0*qx) + np.cos(2.0*qy)))\n",
    "\n",
    "JFT=np.fromfunction(lambda qx,qy: J(dq*qx,dq*qy), (m,m)) #qx vertical, qy horisontal \n",
    "\n",
    "\n",
    "#making dK tab for symmetrybreaking\n",
    "def dKfunc (qx,qy):\n",
    "    return np.cos(qx)*np.sin(np.sqrt(2.0)*qy)+np.cos(np.sqrt(3.0)*(qx+0.4*qy))\n",
    "\n",
    "dKtab = np.fromfunction(lambda qx,qy: dKfunc(dq*qx,dq*qy), (m,m)) \n",
    "\n",
    "\n",
    "#making tables to check for symmetry brekaing along axis or diagonal\n",
    "def funcAxis(qx,qy):\n",
    "    return np.cos(qx)-np.cos(qy)\n",
    "def funcDia(qx,qy):\n",
    "    return np.cos(qx+qy)-np.cos(qx-qy)\n",
    "\n",
    "symTabAxis = np.fromfunction(lambda qx,qy: funcAxis(dq*qx,dq*qy), (m,m)).flatten()\n",
    "symTabDia = np.fromfunction(lambda qx,qy: funcDia(dq*qx,dq*qy), (m,m)).flatten()\n",
    "\n",
    "\n",
    "#calculates temp, once K and self-energy is known\n",
    "def Temp(K1):\n",
    "    return ((2.0/NS)*m*m/(np.sum(np.reciprocal(K1))))"
   ]
  },
  {
   "cell_type": "markdown",
   "metadata": {},
   "source": [
    "Making tables for saving results:"
   ]
  },
  {
   "cell_type": "code",
   "execution_count": 105,
   "metadata": {},
   "outputs": [],
   "source": [
    "sigma = pd.DataFrame(np.zeros((maxNsteps,3)), \\\n",
    "                         columns=['Delta', 'sigmaAxis', 'sigmaDia'])\n",
    "\n",
    "sigmaTemp = pd.DataFrame(np.zeros((nTemp,4)), \\\n",
    "                         columns=['Delta','Temperature', 'sigmaAxis', 'sigmaDia'])"
   ]
  },
  {
   "cell_type": "markdown",
   "metadata": {},
   "source": [
    "Begining iteration:"
   ]
  },
  {
   "cell_type": "code",
   "execution_count": 106,
   "metadata": {},
   "outputs": [],
   "source": [
    "for temp in range(0,nTemp):\n",
    "    #iterating through all values of Delta\n",
    "    Delta=DeltaList[temp]\n",
    "    \n",
    "    K0 = JFT - np.min(JFT) + Delta #making sure K0 is positive\n",
    "    K1 = K0 + da*dKtab -np.min(K0 + da*dKtab)+Delta #adding symmetry breaking term to K0\n",
    "    \n",
    "    sigma.iloc[0] = np.array([[Delta,np.dot(symTabAxis,K1.flatten())/(m*m),\n",
    "          np.dot(symTabDia,K1.flatten())/(m*m)]]) #calculating sigmas starting value\n",
    "\n",
    "    for i in range(1,maxNsteps): #iterating while checking for convergense\n",
    "        K1inv = np.reciprocal(K1)\n",
    "        \n",
    "        #calculating D with convolution\n",
    "        invK1Real = np.fft.ifft2(K1inv)\n",
    "        invK1RealConj = np.conj(invK1Real)\n",
    "        invK1RealMult = np.multiply(invK1Real, invK1RealConj)\n",
    "        invK1Conv = np.real(np.fft.fft2(invK1RealMult))#get D1 real,complex part very small.\n",
    "        D1 = (2.0/NS)*np.reciprocal(invK1Conv) \n",
    "\n",
    "        #adding self-energy with convolution\n",
    "        D1Real = np.fft.ifft2(D1)\n",
    "        D1K1RealMult =  np.multiply(D1Real, invK1RealConj)\n",
    "        D1K1Conv = np.real(np.fft.fft2(D1K1RealMult)) #get real part, complex part very small. \n",
    "\n",
    "        K10 = K0+D1K1Conv #last term is the self-energy\n",
    "        \n",
    "        #redefine K1 and calcualte sigma\n",
    "        K1 = K10 - np.min(K10)+Delta\n",
    "        \n",
    "        #Check for convergence\n",
    "        if(i%checkNSteps == 0):\n",
    "            nStepsNow = int(i/checkNSteps)\n",
    "            #calcualting sigma:\n",
    "            sigma.iloc[nStepsNow] = np.array([Delta,np.dot(symTabAxis,K1.flatten())/(m*m),\n",
    "                  np.dot(symTabDia,K1.flatten())/(m*m)])\n",
    "            \n",
    "            #check for convergence in sigma\n",
    "            if(abs(sigma.iloc[nStepsNow][1] -sigma.iloc[nStepsNow-1][1])<convCrit \\\n",
    "                and abs(sigma.iloc[nStepsNow][2] -sigma.iloc[nStepsNow-1][2])<convCrit):\n",
    "                \n",
    "                stepsInN = nStepsNow\n",
    "                break\n",
    "            elif(i > maxNstep):\n",
    "                print('sigma did not converge')\n",
    "                stepsInN = nStepsNow\n",
    "                break\n",
    "       \n",
    "    #calcualting temp from K1 and saving value.\n",
    "    sigmaTemp.iloc[temp] = np.array([Delta,Temp(K1),sigma.iloc[stepsInN]['sigmaAxis'],\\\n",
    "                                  sigma.iloc[stepsInN]['sigmaDia']])\n",
    "    "
   ]
  },
  {
   "cell_type": "code",
   "execution_count": 107,
   "metadata": {},
   "outputs": [
    {
     "name": "stdout",
     "output_type": "stream",
     "text": [
      "           Delta   Temperature\n",
      "0   1.000000e-09  6.666666e-08\n",
      "1   1.000000e-08  6.666663e-07\n",
      "2   1.000000e-07  6.666630e-06\n",
      "3   1.000000e-06  6.666298e-05\n",
      "4   1.000000e-05  6.662980e-04\n",
      "5   1.000000e-04  6.629978e-03\n",
      "6   1.000000e-03  6.316544e-02\n",
      "7   1.000000e-02  4.251742e-01\n",
      "8   1.000000e-01  9.384553e-01\n",
      "9   1.000000e+00  1.763336e+00\n",
      "10  1.000000e+01  7.945411e+00\n"
     ]
    }
   ],
   "source": [
    "print(sigmaTemp.iloc[:,:2])"
   ]
  },
  {
   "cell_type": "code",
   "execution_count": 108,
   "metadata": {},
   "outputs": [
    {
     "ename": "SyntaxError",
     "evalue": "invalid syntax (<ipython-input-108-feee0f070d30>, line 1)",
     "output_type": "error",
     "traceback": [
      "\u001b[1;36m  File \u001b[1;32m\"<ipython-input-108-feee0f070d30>\"\u001b[1;36m, line \u001b[1;32m1\u001b[0m\n\u001b[1;33m    1.000000000000000062e-09 6.666666297818836472e-08 6.666666297818840442e-08\u001b[0m\n\u001b[1;37m                                                    ^\u001b[0m\n\u001b[1;31mSyntaxError\u001b[0m\u001b[1;31m:\u001b[0m invalid syntax\n"
     ]
    }
   ],
   "source": [
    "1.000000000000000062e-09 6.666666297818836472e-08 6.666666297818840442e-08\n",
    "1.000000000000000021e-08 6.666662978190208671e-07 6.666662978190200201e-07\n",
    "9.999999999999999547e-08 6.666629782080301772e-06 6.666629782080290760e-06\n",
    "9.999999999999999547e-07 6.666297838631657726e-05 6.666297838631649595e-05\n",
    "1.000000000000000082e-05 6.662980168168469155e-04 6.662980168168465903e-04\n",
    "1.000000000000000048e-04 6.629978849617459633e-03 6.629978849617456163e-03\n",
    "1.000000000000000021e-03 6.316550205305281052e-02 6.316550205305274113e-02\n",
    "1.000000000000000021e-02 4.251760698202444178e-01 4.251760698202449729e-01\n",
    "1.000000000000000056e-01 9.384553472498758930e-01 9.384553472498762261e-01\n",
    "1.000000000000000000e+00 1.763335850799605087e+00 1.763335850799603310e+00\n",
    "1.000000000000000000e+01 7.945410754177638424e+00 7.945410754177634871e+00\n"
   ]
  },
  {
   "cell_type": "code",
   "execution_count": null,
   "metadata": {},
   "outputs": [],
   "source": []
  },
  {
   "cell_type": "code",
   "execution_count": null,
   "metadata": {},
   "outputs": [],
   "source": []
  }
 ],
 "metadata": {
  "kernelspec": {
   "display_name": "Python 3",
   "language": "python",
   "name": "python3"
  },
  "language_info": {
   "codemirror_mode": {
    "name": "ipython",
    "version": 3
   },
   "file_extension": ".py",
   "mimetype": "text/x-python",
   "name": "python",
   "nbconvert_exporter": "python",
   "pygments_lexer": "ipython3",
   "version": "3.6.5"
  }
 },
 "nbformat": 4,
 "nbformat_minor": 2
}
